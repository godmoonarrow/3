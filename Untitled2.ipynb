{
  "nbformat": 4,
  "nbformat_minor": 0,
  "metadata": {
    "colab": {
      "provenance": []
    },
    "kernelspec": {
      "name": "python3",
      "display_name": "Python 3"
    },
    "language_info": {
      "name": "python"
    }
  },
  "cells": [
    {
      "cell_type": "code",
      "execution_count": 3,
      "metadata": {
        "colab": {
          "base_uri": "https://localhost:8080/"
        },
        "id": "sjtPVZFy9Kkb",
        "outputId": "3bd1c423-c199-4a1a-b5fc-b5934387ba7e"
      },
      "outputs": [
        {
          "output_type": "stream",
          "name": "stdout",
          "text": [
            "list['name:王晧宇', 'ID:B1205017']\n",
            "<class 'str'>\n",
            "<class 'str'>\n"
          ]
        }
      ],
      "source": [
        "a=(\"name:王晧宇\")\n",
        "b=(\"ID:B1205017\")\n",
        "c=list[a,b]\n",
        "print(c)\n",
        "print(type(a))\n",
        "print(type(b))"
      ]
    }
  ]
}